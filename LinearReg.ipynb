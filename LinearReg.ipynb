{
 "cells": [
  {
   "cell_type": "markdown",
   "metadata": {},
   "source": [
    "Given a set of observations $x^{(i)}$ and $y^{(i)}$, the objective is to find a function $f: X \\rightarrow Y$ of the form $f(x)=a_{0} + a_{1}x$ \n",
    "that minimizes a loss function $l: f(x^{(i)}), y^{(i)} \\rightarrow L $. \n",
    "\n",
    "In the vectorized form of the function where $a = \\begin{bmatrix} a_0 \\\\ a_1 \\end{bmatrix}$ and $X = \\begin{bmatrix} 1 \\\\ x \\end{bmatrix}$ $$f(x)=X \\cdot a$$\n",
    "\n",
    "In this case the loss function is the quadratic loss function $$\\begin{equation} \n",
    "L(a) = \\sum_{i=1}^{N} (y^{(i)}-f(x^{(i)}))^2 = \\sum_{i=1}^{N} (y^{(i)} - a \\cdot X^{(i)})^2 \\end{equation}$$ \n",
    "\n",
    "After the differentiation of the function our purpose is to find the zero of the derivatives\n",
    "$$ \\begin{align*} \n",
    "\\frac{dL}{da} &= - 2 \\sum_{i=1}^{N}(y^{(i)} - a \\cdot X^{(i)} ) \\cdot X^{T (i)} \\\\\n",
    "\\sum_{i=1}^{N} y^{(i)} \\cdot X^{T_{(i)}} &=  \\sum_{i=1}^{N} a \\cdot X^{(i)} \\cdot X^{T_{(i)}} \\\\\n",
    "X^T \\cdot y &= a \\cdot X \\cdot X^T \\\\\n",
    "a &= X^T \\cdot y \\cdot (X \\cdot X^T)^{-1} \n",
    "\\end{align*}$$\n"
   ]
  },
  {
   "cell_type": "code",
   "execution_count": 9,
   "metadata": {},
   "outputs": [],
   "source": [
    "# pip install numpy\n",
    "import numpy as np\n",
    "\"\"\"\n",
    "Perform linear regression using the conventional way using linear algebra.\n",
    "Args:\n",
    "- X (list): Input feature values.\n",
    "- Y (list): Observed output values.\n",
    "Returns:\n",
    "- list: Parameter vector 'a' for the linear regression model.\n",
    "\"\"\"\n",
    "def linear_regression(X, Y):\n",
    "    X = np.array(X)\n",
    "    Y = np.array(Y)\n",
    "    \n",
    "    X = np.column_stack((np.ones_like(X), X))\n",
    "    \n",
    "    X_t = np.transpose(X)\n",
    "    XtX_i = np.linalg.inv(np.dot(X_t, X))\n",
    "    a = np.dot(np.dot(XtX_i, X_t), Y)\n",
    "    \n",
    "    return a"
   ]
  },
  {
   "cell_type": "code",
   "execution_count": 11,
   "metadata": {},
   "outputs": [
    {
     "name": "stdout",
     "output_type": "stream",
     "text": [
      "Parameter vector a: [-0.055  2.035]\n"
     ]
    }
   ],
   "source": [
    "X = [1, 2, 3, 4, 5]\n",
    "Y = [2, 4.05, 6, 8, 10.2]\n",
    "\n",
    "parameters = linear_regression(X, Y)\n",
    "print(\"Parameter vector a:\", parameters)"
   ]
  }
 ],
 "metadata": {
  "kernelspec": {
   "display_name": "Py310",
   "language": "python",
   "name": "python3"
  },
  "language_info": {
   "codemirror_mode": {
    "name": "ipython",
    "version": 3
   },
   "file_extension": ".py",
   "mimetype": "text/x-python",
   "name": "python",
   "nbconvert_exporter": "python",
   "pygments_lexer": "ipython3",
   "version": "3.9.17"
  }
 },
 "nbformat": 4,
 "nbformat_minor": 2
}
